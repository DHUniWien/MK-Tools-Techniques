{
 "cells": [
  {
   "cell_type": "markdown",
   "metadata": {},
   "source": [
    "# Regular Expressions exercises\n",
    "\n",
    "In this exercise you will extract structured data out of an OCR transcript of a historical report. \n",
    "\n",
    "The first step is to read in the file! Replace the path given here so that your\n",
    "file opens correctly."
   ]
  },
  {
   "cell_type": "code",
   "execution_count": null,
   "metadata": {
    "collapsed": false,
    "scrolled": false
   },
   "outputs": [],
   "source": [
    "fh = open('/PATH/TO/YOUR/FILE/morbidity.txt', 'r', encoding='utf-8')\n",
    "data = fh.read()\n",
    "fh.close()\n",
    "print(data)"
   ]
  },
  {
   "cell_type": "markdown",
   "metadata": {},
   "source": [
    "Before we begin, here is a list of the bits of regular expression that will prove useful.\n",
    "\n",
    "Flags\n",
    "-----\n",
    "Regular expressions usually take some set of *flags* that alter how the expression is treated. The most useful one to know about is the one we used:\n",
    "\n",
    "    re.I   (Case-insensitive: don't pay attention to upper- or lowercase)\n",
    "    re.M   (The text is a multi-line file; make ^ and $ work on every line.)\n",
    "    \n",
    "\n",
    "Characters, metacharacters, and patterns\n",
    "----------------------------------------\n",
    "\n",
    "A regular expression is a *pattern* specified using *characters* and *metacharacters*. A character is, well, any old thing that can appear in a text file. A metacharacter is a character that doesn't get treated as itself, but rather signals to the regular expression engine that you want to express something more complicated. Typical metacharacters are:\n",
    "\n",
    "    .       (Match any character)\n",
    "    [,+;]   (Match the character if it is any of the things inside the [])\n",
    "    [^abc]  (Match anything *except* a, b, or c)\n",
    "    (abc)   (Make abc a group: apply any of the following to the whole thing.)\n",
    "    +       (Match the previous character or group one or more times)\n",
    "    {3}     (Match the previous character or group exactly three times)\n",
    "    {1,4}   (Match the previous character or group between 1 and 4 times)\n",
    "    *       (Match the previous character or group zero or more times)\n",
    "    ?       (If the previous character or group isn't there, treat the pattern as a match anyway)\n",
    "    \\       (The thing that follows is a metacharacter (if normally not) or a character (if normally meta))\n",
    "    \n",
    "So this means that:\n",
    "\n",
    "* `(abc)+` will match `abc` or `abcabc` but not `abac`.\n",
    "* `[abc]+` will match `a` or `b` or `abac` or really any combination of a, b, and c.\n",
    "* If you want to match anything at all, you match `.*`. \n",
    "* If you want to match anything except the empty string, you match `.+`.\n",
    "* If you want to match a period, you match `\\. `; for a plus sign, `\\+ `.\n",
    "\n",
    "There are a few more metacharacters that you should know about:\n",
    "\n",
    "    \\w   (match a \"word\" character, which is usually A-Z, a-z, 0-9, and _)\n",
    "    \\d   (match a \"digit\" character, which is generally 0-9)\n",
    "    \\s   (match any sort of \"space\" character, including space, tab, carriage return, etc.)\n",
    "    \n",
    "    ^   The beginning (of the string, or of the line with re.M)\n",
    "    $   The end (of the string, or of the line with re.M)\n",
    "\n"
   ]
  },
  {
   "cell_type": "markdown",
   "metadata": {},
   "source": [
    "Problem 1.\n",
    "----------\n",
    "Get rid of everything before STATISTICAL blah blah. You could use a regular\n",
    "expression to do this, but you don't have to! You might also use the string\n",
    "'find' method. If you have a string called 'message' with the contents\n",
    "'Hello how are you today?', then you can look for the word 'you' like this:\n",
    "\n",
    "    index = message.find('you')\n",
    "    \n",
    "and it will return the index of the string where the 'you' starts. If there\n",
    "is no 'you' in the message, find() will return -1. You can use this index\n",
    "to trim the string, if you like, using slicing.\n",
    "\n",
    "    everything_after = message[index:]  # returns 'you today?'\n",
    "    \n",
    "You might want to print the first 100 characters or so of `data` when you are done,\n",
    "to make sure you've got it right."
   ]
  },
  {
   "cell_type": "code",
   "execution_count": null,
   "metadata": {
    "collapsed": false
   },
   "outputs": [],
   "source": [
    "'YOUR CODE HERE'"
   ]
  },
  {
   "cell_type": "markdown",
   "metadata": {},
   "source": [
    "Problem 2.\n",
    "----------\n",
    "\n",
    "Look for the header lines that have the date of the report (which was\n",
    "21 Feb 1908). You'll need a regular expression for this part, and you'll \n",
    "have some dirty data! You should find a way to get the whole line that has \n",
    "this date (that is to say, the whole line and not just the date!), and \n",
    "there are 4 lines."
   ]
  },
  {
   "cell_type": "code",
   "execution_count": null,
   "metadata": {
    "collapsed": false
   },
   "outputs": [],
   "source": [
    "import re\n",
    "\n",
    "for item in re.finditer('YOUR EXPRESSION HERE', data, re.M):\n",
    "    print(item.group(0))"
   ]
  },
  {
   "cell_type": "markdown",
   "metadata": {},
   "source": [
    "Problem 3.\n",
    "----------\n",
    "\n",
    "Now that you have found all these lines, you can remove them.\n",
    "HINT: You should use `re.sub()` for this."
   ]
  },
  {
   "cell_type": "code",
   "execution_count": null,
   "metadata": {
    "collapsed": true
   },
   "outputs": [],
   "source": [
    "data = 'YOUR CODE HERE (hint: use re.sub() where you used print() above.)'"
   ]
  },
  {
   "cell_type": "markdown",
   "metadata": {},
   "source": [
    "Problem 4.\n",
    "----------\n",
    "\n",
    "You can also remove these lines about \"Received out of regular order\"\n",
    "in much the same way. When you've done this, print out the data to\n",
    "make sure that they have disappeared."
   ]
  },
  {
   "cell_type": "code",
   "execution_count": null,
   "metadata": {
    "collapsed": false
   },
   "outputs": [],
   "source": [
    "data = re.sub('^.*Received out of regular order.*$', '', data, flags=re.M)\n",
    "\n",
    "# Make sure they are all gone\n",
    "index = data.find('Received out of')\n",
    "print(index)"
   ]
  },
  {
   "cell_type": "markdown",
   "metadata": {},
   "source": [
    "Problem 5.\n",
    "----------\n",
    "\n",
    "Now the fun part begins. First let's look for the cities, which as you can see are\n",
    "set apart with an em-dash. Here is an em-dash that you can copy and paste\n",
    "if you don't know how to type one:\n",
    " —\n",
    "See if you can get a list of all the place names\n",
    "in the remaining text. Use `re.finditer()` to do this."
   ]
  },
  {
   "cell_type": "code",
   "execution_count": null,
   "metadata": {
    "collapsed": false
   },
   "outputs": [],
   "source": [
    "count = 0\n",
    "\n",
    "for item in re.finditer('CITY NAME BEFORE EM-DASH', data, re.M):\n",
    "    print(item.group(1))\n",
    "    count += 1\n",
    "    \n",
    "print(count)"
   ]
  },
  {
   "cell_type": "markdown",
   "metadata": {},
   "source": [
    "Problem 6.\n",
    "----------\n",
    "\n",
    "Neat. But now do you notice that some of the lines have two place names?\n",
    "We have to decide how to deal with that, and also how to deal with the\n",
    "periods at the end, when they are there. Let's get the place names into\n",
    "a format that looks like \n",
    "\n",
    "    Arizona \n",
    "or \n",
    "\n",
    "    Iowa, Cedar Rapids\n",
    "Hint: for each match, you can use `re.sub()` to get rid of any periods,\n",
    "and then you can use `re.search` to see if there are any — characters left.\n",
    "If there are, you can split the matched text again and join it up with\n",
    "the comma.\n",
    "\n",
    "When you're done, print each place name to see if it looks right."
   ]
  },
  {
   "cell_type": "code",
   "execution_count": null,
   "metadata": {
    "collapsed": false
   },
   "outputs": [],
   "source": [
    "ffor place in re.finditer('YOUR REGEXP FROM ABOVE', data, re.M):\n",
    "    placename = 'THIS IS A GOOD PLACE TO USE re.sub() ON place'\n",
    "    if 'MAYBE USE re.search() HERE TO SEE IF THERE IS STILL AN EM-DASH':\n",
    "        'IF THERE IS, SPLIT IT UP AND JOIN IT WITH A COMMA'\n",
    "    print(placename)"
   ]
  },
  {
   "cell_type": "markdown",
   "metadata": {},
   "source": [
    "Problem 7.\n",
    "----------\n",
    "\n",
    "Now we need a good regular expression that will pick out numbers, even when\n",
    "they have commas in the middle. Try it out. You should be able to find 511\n",
    "numbers.\n",
    "\n",
    "* Hint: even if the number has a comma, it should end with a digit!\n",
    "* Hint: we should be able to find single-digit numbers too!"
   ]
  },
  {
   "cell_type": "code",
   "execution_count": null,
   "metadata": {
    "collapsed": false
   },
   "outputs": [],
   "source": [
    "all_numbers = re.findall('YOUR EXPRESSION HERE', data)\n",
    "for num in all_numbers:\n",
    "    print(num)\n",
    "print(len(all_numbers))"
   ]
  },
  {
   "cell_type": "markdown",
   "metadata": {},
   "source": [
    "Intermission.\n",
    "-------------\n",
    "\n",
    "For the rest of this to make sense, we are going to need to get each of\n",
    "the records on one line. We can do that by looking for line breaks (we\n",
    "write a line break as `\\n `), and getting rid of any line breaks that have\n",
    "any non-whitespace since the last line break. I've done this for you, but\n",
    "take a good look and try to understand what is going on here before you\n",
    "move on."
   ]
  },
  {
   "cell_type": "code",
   "execution_count": null,
   "metadata": {
    "collapsed": false
   },
   "outputs": [],
   "source": [
    "records = []\n",
    "datalines = re.split(\"\\n\", data)\n",
    "current_record = ''\n",
    "for line in datalines:\n",
    "    if re.search('^\\s*$', line):\n",
    "        if current_record is not '':\n",
    "            records.append(current_record)\n",
    "            current_record = ''\n",
    "    else:\n",
    "        current_record += line\n",
    "\n",
    "for record in records:\n",
    "    print(record)"
   ]
  },
  {
   "cell_type": "markdown",
   "metadata": {},
   "source": [
    "Problem 8.\n",
    "----------\n",
    "So far we have been working with a giant blob (well, string) of data; now we\n",
    "are working with a list of records. Now we will be operating our regular expressions\n",
    "on each record in the list, rather than on the entire file.\n",
    "\n",
    "We are going to try to pick out the total number of deaths from each record, and\n",
    "add them up at the end to get a complete mortality rate.\n",
    "\n",
    "Look again at the file, and see how these\n",
    "are expressed. The list you print should have 53 entries.\n",
    "\n",
    "* Hint: look at California.\n",
    "* Hint: look at New Jersey."
   ]
  },
  {
   "cell_type": "code",
   "execution_count": null,
   "metadata": {
    "collapsed": false
   },
   "outputs": [],
   "source": [
    "entries_found = 0\n",
    "total_deaths = 0\n",
    "\n",
    "for record in records:\n",
    "    for match in re.finditer('YOUR REGULAR EXPRESSION HERE', record):\n",
    "        total = 'A GROUP OF YOUR MATCH'\n",
    "        # Now you need to remove any commas in the number so that\n",
    "        # you can convert it to an int and add it to the totals.\n",
    "        total = re.sub('YOUR CODE HERE')\n",
    "        # Well done, carry on.\n",
    "        total_deaths += int(total)\n",
    "        entries_found += 1\n",
    "print(\"Found %d of 53 records\" % entries_found)\n",
    "print(\"All deaths in total: %d\" % total_deaths)"
   ]
  }
 ],
 "metadata": {
  "kernelspec": {
   "display_name": "Python 3",
   "language": "python",
   "name": "python3"
  },
  "language_info": {
   "codemirror_mode": {
    "name": "ipython",
    "version": 3
   },
   "file_extension": ".py",
   "mimetype": "text/x-python",
   "name": "python",
   "nbconvert_exporter": "python",
   "pygments_lexer": "ipython3",
   "version": "3.5.1"
  }
 },
 "nbformat": 4,
 "nbformat_minor": 0
}
