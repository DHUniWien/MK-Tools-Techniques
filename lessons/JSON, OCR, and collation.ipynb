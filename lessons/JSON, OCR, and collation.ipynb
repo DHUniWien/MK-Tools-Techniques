{
 "cells": [
  {
   "cell_type": "markdown",
   "metadata": {},
   "source": [
    "From digitisation to collation via JSON\n",
    "======\n",
    "\n",
    "In this lesson we will see how to pull text from an image, how to arrange that text into a structure called JSON, and how to send that JSON to a server on the Internet to have the text collated. To run this notebook you will need to have installed the following:\n",
    "\n",
    "* The Tesseract software, via one of these commands:\n",
    "  * Mac: `brew install tesseract`\n",
    "  * Windows: `choco install capture2text`\n",
    "  * Ubuntu Linux: `apt install tesseract-ocr`\n",
    "* The Python modules `pytesseract` and `PIL`\n",
    "\n",
    "If you've done that, then we can get started.\n",
    "\n",
    "Tesseract OCR from Python\n",
    "---\n",
    "\n",
    "works just like on the command line, only via a Python library. The only catch is that we need to do something special with the image file in order to open it. So first we import the libraries that we need..."
   ]
  },
  {
   "cell_type": "code",
   "execution_count": null,
   "metadata": {
    "collapsed": false
   },
   "outputs": [],
   "source": [
    "from PIL import Image\n",
    "import pytesseract"
   ]
  },
  {
   "cell_type": "markdown",
   "metadata": {
    "collapsed": false
   },
   "source": [
    "...and then we tell Tesseract what image we want to read. **CAREFUL**: the path to your file may be different from mine! Think about where you are keeping the image and where you are keeping this notebook on your drive."
   ]
  },
  {
   "cell_type": "code",
   "execution_count": null,
   "metadata": {
    "collapsed": false
   },
   "outputs": [],
   "source": [
    "img = Image.open('../lessondata/Woolf/TTL-UK-020.jpg')\n",
    "result = pytesseract.image_to_string(img, lang='eng')\n",
    "print(result)"
   ]
  },
  {
   "cell_type": "markdown",
   "metadata": {},
   "source": [
    "Data needs structure!\n",
    "=====================\n",
    "\n",
    "When we start using digital tools, the first thing we have to find out is what kind of data they expect and how it needs to be structured. Does the tool want a plain old text? Several plain old texts? Some extra information besides?\n",
    "\n",
    "Many tools, including the one we'll look at today, use the same sorts of variables, lists, and dictionaries that we've been learning about in Python. When they speak to each other they often express these variables, lists, and dictionaries in a fornat called JSON."
   ]
  },
  {
   "cell_type": "code",
   "execution_count": null,
   "metadata": {
    "collapsed": false
   },
   "outputs": [],
   "source": [
    "import json"
   ]
  },
  {
   "cell_type": "markdown",
   "metadata": {},
   "source": [
    "JSON stands for \"JavaScript Object Notation\", and was so amazingly simple and useful that it is used for many many things that have nothing to do with JavaScript.\n",
    "\n",
    "The idea is that everything is an *object*. There are simple objects, and there are complex objects, but they are all objects. And pretty much anything can be represented this way!\n",
    "\n",
    "Simple objects\n",
    "--------------\n",
    "\n",
    "Simple objects are things like numbers, letters, words, entire sequences of words, and Boolean values i.e. *true* or *false*. JSON represents these...exactly as they are."
   ]
  },
  {
   "cell_type": "code",
   "execution_count": null,
   "metadata": {
    "collapsed": false
   },
   "outputs": [],
   "source": [
    "print(\"A number\", json.dumps( 1.234 ))\n",
    "print(\"A character\", json.dumps(chr(65)))\n",
    "print(\"A string\", json.dumps( 'Message in %d bottles' % 1000 ))\n",
    "print(\"A Boolean\", json.dumps( 2 + 2 == 4 ))"
   ]
  },
  {
   "cell_type": "markdown",
   "metadata": {},
   "source": [
    "It's worth noticing what it did with that bottled message though - it was printed with double quotes around it. This is part of the JSON specification - strings, which is to say simple objects that are neither numbers or Booleans, are wrapped in double quotes. Compare the JSON-dumped and plain version..."
   ]
  },
  {
   "cell_type": "code",
   "execution_count": null,
   "metadata": {
    "collapsed": false
   },
   "outputs": [],
   "source": [
    "print(\"This is my normal string -\", 'Message in %d bottles' % 1000)\n",
    "print(\"My JSON string -\", json.dumps( 'Message in \"%d\" bottles' % 1000 ))"
   ]
  },
  {
   "cell_type": "markdown",
   "metadata": {},
   "source": [
    "So what happens if your message itself has a quotation?"
   ]
  },
  {
   "cell_type": "code",
   "execution_count": null,
   "metadata": {
    "collapsed": false
   },
   "outputs": [],
   "source": [
    "print(\"A string -\", json.dumps( '\"Programming is great!\" exclaimed Alice.' ))"
   ]
  },
  {
   "cell_type": "markdown",
   "metadata": {},
   "source": [
    "Double-quotes within a double-quoted string are managed by putting the superpower sign \\ (backslash) in front of them.  And if your string has a backslash? Put a backslash in front of it."
   ]
  },
  {
   "cell_type": "code",
   "execution_count": null,
   "metadata": {
    "collapsed": false
   },
   "outputs": [],
   "source": [
    "backslash_string = '\"What would we do without the \\ character?\", Susan mused.'\n",
    "print(json.dumps( backslash_string ))"
   ]
  },
  {
   "cell_type": "markdown",
   "metadata": {},
   "source": [
    "It's not the prettiest thing ever, but it works! And then if you have some JSON, you can read it again with the `.loads()` function."
   ]
  },
  {
   "cell_type": "code",
   "execution_count": null,
   "metadata": {
    "collapsed": false
   },
   "outputs": [],
   "source": [
    "json_string = json.dumps( backslash_string )\n",
    "print(json_string)\n",
    "print(json.loads( json_string ))"
   ]
  },
  {
   "cell_type": "markdown",
   "metadata": {},
   "source": [
    "Complex objects\n",
    "---------------\n",
    "\n",
    "Okay, but we have an entire text and all sorts of information we want to encode, and if we were happy to just throw it in between double quotes, we wouldn't be here. We need complex objects. They include:\n",
    "\n",
    "* A list of objects\n",
    "* A dictionary of objects\n",
    "\n",
    "For starters, we might want to indicate that our text is not just a long line, but individual words. We can make it a list."
   ]
  },
  {
   "cell_type": "code",
   "execution_count": null,
   "metadata": {
    "collapsed": false
   },
   "outputs": [],
   "source": [
    "story = \"It was a dark  and stormy night.\"\n",
    "## We want to get each word. We could do it the hard way...\n",
    "storywords = [ 'It', 'was', 'a', 'dark', 'and', 'stormy', 'night.' ]\n",
    "print(\"Try #1:\", json.dumps( storywords ))"
   ]
  },
  {
   "cell_type": "markdown",
   "metadata": {},
   "source": [
    "But why do we learn Python if not to make things easy for ourselves?\n",
    "Let's make the same list, the easy way - splitting up the story according to the spaces."
   ]
  },
  {
   "cell_type": "code",
   "execution_count": null,
   "metadata": {
    "collapsed": false
   },
   "outputs": [],
   "source": [
    "storywords = story.split()\n",
    "print(storywords)\n",
    "print(\"Try #2:\", json.dumps( storywords ))"
   ]
  },
  {
   "cell_type": "markdown",
   "metadata": {},
   "source": [
    "This is a useful technique anytime you come across a bunch of information that has been shoved into a single string, that you want to treat as multiple items. For example, here is how your account login might be saved on your computer, and how you might want to get the different pieces of information out of that."
   ]
  },
  {
   "cell_type": "code",
   "execution_count": null,
   "metadata": {
    "collapsed": false
   },
   "outputs": [],
   "source": [
    "record = 'johndoe:John Doe:PASSWORD:/home/johndoe'\n",
    "record.split(':')"
   ]
  },
  {
   "cell_type": "markdown",
   "metadata": {},
   "source": [
    "Notice the JSON rules for a list:\n",
    "\n",
    "* It is surrounded by [] (square brackets).\n",
    "* Its elements (which can be any object, simple or complex) are separated by commas.\n",
    "\n",
    "And so now we can send a list to someone, and they can send a list to us. We convert JSON back into data with the `.loads()` method. This is important - JSON itself is just a character string, and doesn't become a list until we load it!"
   ]
  },
  {
   "cell_type": "code",
   "execution_count": null,
   "metadata": {
    "collapsed": false
   },
   "outputs": [],
   "source": [
    "json_string_from_elsewhere = '[\"So\", \"long\", \"and\", \"thanks\", \"for\", \"all\", \"the\", \"fish.\"]'\n",
    "print(\"Second word is\", json_string_from_elsewhere[1])"
   ]
  },
  {
   "cell_type": "markdown",
   "metadata": {},
   "source": [
    "See? You might have expected the second element in the list, but instead you got the second character in the string. Let's try that again after loading the string."
   ]
  },
  {
   "cell_type": "code",
   "execution_count": null,
   "metadata": {
    "collapsed": false
   },
   "outputs": [],
   "source": [
    "wordlist = json.loads( json_string_from_elsewhere )\n",
    "print(\"Second word is\", wordlist[1])"
   ]
  },
  {
   "cell_type": "markdown",
   "metadata": {},
   "source": [
    "But we might even want to describe something even more complex - like the fact that each thing in the list is a \"word\", and maybe even the word number. Sure, we can figure that out by looking at the list and using our common sense, but computers don't have common sense, and maybe later we will want to do something with the words that involves mixing up their order.\n",
    "\n",
    "So for each word, let's make a little dictionary to say that the \"word\" is whatever the word is, and the \"sequence\" shows the order of the words. If we felt like it we could add more information like the word's root form, or whether it had punctuation before or after, or anything we like."
   ]
  },
  {
   "cell_type": "code",
   "execution_count": null,
   "metadata": {
    "collapsed": false
   },
   "outputs": [],
   "source": [
    "storywords = []\n",
    "counter = 1\n",
    "for w in story.split():\n",
    "    wordinfo = { 'word': w, 'sequence': counter }\n",
    "    storywords.append( wordinfo )\n",
    "    counter += 1\n",
    "print(storywords)\n",
    "print(json.dumps( storywords ))"
   ]
  },
  {
   "cell_type": "markdown",
   "metadata": {},
   "source": [
    "Okay! The rules for dictionary objects are slightly more complex:\n",
    "\n",
    "* Each dictionary is surrounded by {} (curly quotes).\n",
    "* The dictionary has a set of *keys* and a set of *values*. \n",
    "* Each *key* must be a string (i.e. a simple JSON object that goes into double quotes).\n",
    "* Each *value* can be any object, simple or complex.\n",
    "\n",
    "So what we have here is a **list** of **dictionaries** - each dictionary has a 'word' and a 'sequence'.\n",
    "\n",
    "By now you'll also have noticed that these JSON concepts, and the way JSON writes them out, are pretty similar to what you've learned about how to make strings and lists and dictionaries in Python! This is no accident. What it means is that you can put your data into Python, and then use `json.dumps()` to *serialize* it (that is, get it in a form that can be sent to someone else) and then, when you get data back from them, you can use `json.loads` to read it again. \n",
    "\n",
    "But then, you ask, why not just use the plain old Python objects and send *those* around? Answer: because not everyone uses Python to program - in a minute we are going to talk to a server that is written in Java! Second answer: because one of the rules of programming is that the objects you make within your program cannot be directly sent outside your program. Your program's objects are the direct thoughts and pictures in its brain, and other programs can't simply read your program's mind - they have to communicate by speaking words or drawing pictures that can be passed around.\n",
    "\n",
    "Why `dumps` and `loads`? It's a common metaphor. I carry around a bunch of information and then dump it in someone else's lap; that person loads it into his or her wheelbarrow (program) and carries it somewhere else."
   ]
  },
  {
   "cell_type": "markdown",
   "metadata": {},
   "source": [
    "JSON for Text Collation\n",
    "-----------------------\n",
    "\n",
    "We have a collation program that will take a set of *variants* of a text and align them, giving us a result that shows where the texts differ and where they are the same. This is a very important thing to do if you are working on philology, or a critical edition of a text.\n",
    "\n",
    "The collation program tells us something about what kind of information it expects in its documentation, which can be found here: https://collatex.net/doc/#json-input\n",
    "\n",
    "It accepts JSON input that tells it what the *witnesses* are (that is, the different text variants) and returns an answer with the witnesses all aligned. We can try it out! There are two ways to do this, and the first is pretty straightforward, so that's what we will use. It wants a dictionary with the key *witnesses*, whose value is a list of dictionaries. Each dictionary (that is, each witness) has an *id* and some *content*.\n",
    "\n",
    "    { \"witnesses\": [ { \"id\": \"A\", \"content\": \"This is the first text\" }, { \"id\": \"B\", \"content\": \"This is the second text\" } ] }\n",
    "    \n",
    "Let's build that up in Python!"
   ]
  },
  {
   "cell_type": "code",
   "execution_count": null,
   "metadata": {
    "collapsed": false
   },
   "outputs": [],
   "source": [
    "first_witness  = \"Du kennst von Alters her meine Art, mich anzubauen, irgend mir an einem vertraulichen Orte ein Hüttchen aufzuschlagen, und da mit aller Einschränkung zu herbergen.\"\n",
    "second_witness = \"Du kennst von Altersher meine Art, mich anzubauen, mir irgend an einem vertraulichen Ort ein Hüttchen aufzuschlagen, und da mit aller Einschränkung zu herbergen.\"\n",
    "third_witness  = \"Du kennst von Altersher meine Art, mich anzubauen, irgend an einem vertraulichen Ort ein Hüttchen aufzuschlagen, und da zu herbergen.\"\n",
    "\n",
    "witnesses = []\n",
    "witnesses.append( { \"id\": \"Mü375\", \"content\": first_witness  } )\n",
    "witnesses.append( { \"id\": \"V887\", \"content\": second_witness } )\n",
    "witnesses.append( { \"id\": \"Oxford\", \"content\": third_witness  } )\n",
    "collation_input = { \"witnesses\": witnesses }\n",
    "\n",
    "print(json.dumps( collation_input ))\n",
    "collation_input"
   ]
  },
  {
   "cell_type": "markdown",
   "metadata": {},
   "source": [
    "(Did you notice how the \"content\" and \"id\" got swapped around from the order in which we wrote them? This is an important difference between dictionaries and lists - for dictionaries, it doesn't matter what order the information comes in!)\n",
    "\n",
    "Now we can send that to the collator and get an answer back. It will assume that words are separated by spaces.\n",
    "\n",
    "But before we do that, we need to tell the collation program a few extra things. (These options are in the documentation linked to above, but they forgot to mention that you *have* to specify something for each option. Now you know, thanks to the fact that I asked the developers.)"
   ]
  },
  {
   "cell_type": "code",
   "execution_count": null,
   "metadata": {
    "collapsed": false
   },
   "outputs": [],
   "source": [
    "collation_input['tokenComparator'] = {'type':'equality'}\n",
    "collation_input['algorithm'] = 'dekker'\n",
    "print(json.dumps(collation_input))"
   ]
  },
  {
   "cell_type": "markdown",
   "metadata": {},
   "source": [
    "Hang onto your hats - we are going to use the `requests` module, which lets us send JSON to a program running on someone else's webserver, and get an answer back. Don't worry too much about the details at this point - just know that this is possible, and it is the sort of thing that JSON was invented for. We have our data structure (that is, our witnesses and their content) and we have *serialized* them into a JSON string so that we can send them away to the webserver, and we'll get a different JSON string back that we can *deserialize* into collation data."
   ]
  },
  {
   "cell_type": "code",
   "execution_count": null,
   "metadata": {
    "collapsed": false
   },
   "outputs": [],
   "source": [
    "import requests\n",
    "\n",
    "url = 'https://collatex.net/demo/collate'\n",
    "collation_headers = { 'Accept' : 'application/json' }\n",
    "\n",
    "webrequest = requests.post(url, json=collation_input, headers=collation_headers)\n",
    "collation = webrequest.json()\n",
    "print(collation)\n"
   ]
  },
  {
   "cell_type": "markdown",
   "metadata": {},
   "source": [
    "So what have we here? A dictionary object with two keys, 'witnesses' and 'table'. The table is a list of lists - each row in the table becomes a list reading left to right, and the table itself is the list of rows. In this case, each table cell is itself a list of words. So it's a slightly more complex table than usual...\n",
    "\n",
    "In this case, the 'witnesses' key is really the first row of our collation table - a list of our witness IDs in the order they appear in the rest of the table rows. Let's print out the table as HTML. For this we will make use of IPython's ability to spit out HTML, and we will make it so that each witness takes up a row. You don't have to pay too much attention to how this is done if you don't know HTML, but it lets you see how we can format, slice, dice, and rearrange data.\n",
    "\n",
    "Now let's put the two together, and collate the Virginia Woolf excerpts. First we open each of the images, and OCR its text."
   ]
  },
  {
   "cell_type": "code",
   "execution_count": null,
   "metadata": {
    "collapsed": false
   },
   "outputs": [],
   "source": [
    "image_files = ['TTL-E_10', 'TTL-a1_13', 'TTL-UK-020']\n",
    "\n",
    "witnesses = []\n",
    "\n",
    "for id in image_files:\n",
    "    img = Image.open('../lessondata/Woolf/%s.jpg' % id)\n",
    "    result = pytesseract.image_to_string(img, lang='eng')\n",
    "    witnesses.append( { 'id' : id, 'content' : result })\n",
    "\n",
    "collation_input['witnesses'] = witnesses\n",
    "print(collation_input)"
   ]
  },
  {
   "cell_type": "markdown",
   "metadata": {},
   "source": [
    "Now we can send all of that text away to the collation service, and get an answer back. We will use the same collation headers as before, which is where we asked the server to send us JSON in response, and this is what we get."
   ]
  },
  {
   "cell_type": "code",
   "execution_count": null,
   "metadata": {
    "collapsed": false
   },
   "outputs": [],
   "source": [
    "webrequest = requests.post(url, json=collation_input, \n",
    "                           headers=collation_headers)\n",
    "collation = webrequest.json()\n",
    "print(collation)"
   ]
  },
  {
   "cell_type": "markdown",
   "metadata": {},
   "source": [
    "So how do we make sense of all that data? One way would be to put it into an HTML table. See if you can figure out what this code is doing, with all those `for` loops within `for` loops."
   ]
  },
  {
   "cell_type": "code",
   "execution_count": null,
   "metadata": {
    "collapsed": false
   },
   "outputs": [],
   "source": [
    "from IPython.core.display import HTML    # for showing formatted web content in the notebook\n",
    "\n",
    "witness_rows = []\n",
    "\n",
    "# Start the rows with the witness IDs as headers\n",
    "for witness in collation['witnesses']:\n",
    "    row_html = '<th>%s</th>' % witness\n",
    "    witness_rows.append( row_html )\n",
    "\n",
    "# Now for each set of matching words in the collation, add them to their\n",
    "# respective witness rows\n",
    "for row in collation['table']:\n",
    "    for index, cell in enumerate( row ):\n",
    "        cell_html = '<td>%s</td>' % ' '.join( cell )\n",
    "        witness_rows[index] += cell_html\n",
    "    \n",
    "# Make the table with all the rows\n",
    "collation_table = '<table>'\n",
    "for html_row in witness_rows:\n",
    "    collation_table += '<tr>%s</tr>' % html_row\n",
    "collation_table += '</table>'\n",
    "\n",
    "# Display it\n",
    "print(\"This is the plain HTML that we get from our code above.\")\n",
    "print(collation_table)   # This is what the HTML looks like. Pointy, eh?\n",
    "\n",
    "print(\"\\nAnd this is what that HTML turns into in a web browser.\")\n",
    "HTML(collation_table)    # This is what the browser does with all those pointy brackets"
   ]
  },
  {
   "cell_type": "markdown",
   "metadata": {},
   "source": [
    "There are other possibilities, though! CollateX offers other visualisation options, as is documented here:\n",
    "https://collatex.net/doc/#rest-service\n",
    "\n",
    "You can change the headers of the request to get, for example, an SVG graph back out. Here is how you would do that, and then show the picture in the notebook."
   ]
  },
  {
   "cell_type": "code",
   "execution_count": null,
   "metadata": {
    "collapsed": false
   },
   "outputs": [],
   "source": [
    "from IPython.display import display, SVG   # for showing a picture in the notebook\n",
    "\n",
    "collation_headers = {'Accept' : 'image/svg+xml'}\n",
    "webrequest = requests.post(url, json=collation_input, \n",
    "                           headers=collation_headers)\n",
    "\n",
    "collation = webrequest.text  # NOT webrequest.json(), because we didn't ask for JSON! We asked for SVG XML.\n",
    "display(SVG(collation))"
   ]
  },
  {
   "cell_type": "markdown",
   "metadata": {
    "collapsed": true
   },
   "source": [
    "Great! We took our OCR data and made JSON out of it, and then we sent it over the Internet to a collation service called CollateX and received JSON back. And now we have a collation graph that we constructed from the JSON that we got. Victory!\n",
    "\n",
    "Now something to think about: how would you clean up your OCR data to get rid of line breaks (e.g. \"decision\" instead of \"de-¶cision\"?)"
   ]
  }
 ],
 "metadata": {
  "anaconda-cloud": {},
  "kernelspec": {
   "display_name": "Python 3",
   "language": "python",
   "name": "python3"
  },
  "language_info": {
   "codemirror_mode": {
    "name": "ipython",
    "version": 3
   },
   "file_extension": ".py",
   "mimetype": "text/x-python",
   "name": "python",
   "nbconvert_exporter": "python",
   "pygments_lexer": "ipython3",
   "version": "3.6.0"
  }
 },
 "nbformat": 4,
 "nbformat_minor": 0
}
