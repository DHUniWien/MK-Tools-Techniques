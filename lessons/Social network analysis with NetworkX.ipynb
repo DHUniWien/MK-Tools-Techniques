{
 "cells": [
  {
   "cell_type": "markdown",
   "metadata": {},
   "source": [
    "Social network analysis with NetworkX\n",
    "=====\n",
    "\n",
    "In the last lesson we learned about Graphviz, which is a well-known and mature package for  network graphs - that is, graphs made up of nodes that are linked with edges, and that may have extra information (metadata) as attributes on any of the graph, the nodes, or the edges.\n",
    "\n",
    "Graphviz has one job and does it well: given a set of nodes and edges and given some attributes that say how they should look, it makes the best possible visual picture, or layout, of the graph. What Graphviz doesn't support is any sort of mathematical operation or analysis on the graph, beyond counting the nodes and edges - you can't say whether there is a loop, or whether there are unconnected nodes, or which nodes are the most connected, or how many distinct groups there are. For this we need other tools, and a popular one is NetworkX. You can find the documentation about NetworkX at [this link](https://networkx.github.io/documentation/networkx-1.10/overview.html)."
   ]
  },
  {
   "cell_type": "code",
   "execution_count": null,
   "metadata": {
    "collapsed": true
   },
   "outputs": [],
   "source": [
    "import networkx as nx"
   ]
  },
  {
   "cell_type": "markdown",
   "metadata": {},
   "source": [
    "Like Graphviz, NetworkX understands nodes, edges, and attributes in a graph. Unlike Graphviz, NetworkX knows next to nothing about how best to draw a picture of a graph. Its purpose is, rather, to analyze a graph that is given. It's quite common therefore to make a graph using NetworkX, run some analysis, set some visual properties based on the results of the analysis, and then convert the graph to Graphviz for display.\n",
    "\n",
    "This means that, at first sight, NetworkX works a lot like Graphviz does. You make a graph, and you add nodes and edges."
   ]
  },
  {
   "cell_type": "code",
   "execution_count": null,
   "metadata": {
    "collapsed": true
   },
   "outputs": [],
   "source": [
    "undirected_graph = nx.Graph()\n",
    "directed_graph = nx.DiGraph()\n",
    "\n",
    "undirected_graph.add_edge(\"Alice\", \"Bob\")\n",
    "undirected_graph.add_edge(\"Bob\", \"Carol\")\n",
    "\n",
    "directed_graph.add_edge(\"Alice\", \"Bob\")\n",
    "directed_graph.add_edge(\"Bob\", \"Carol\")"
   ]
  },
  {
   "cell_type": "markdown",
   "metadata": {},
   "source": [
    "Since we have Graphviz installed, we can use it to print out the graphs as we did last week, though we need a slightly different Python module for this (`pygraphviz` rather than `graphviz`)!"
   ]
  },
  {
   "cell_type": "code",
   "execution_count": null,
   "metadata": {
    "collapsed": false
   },
   "outputs": [],
   "source": [
    "%load_ext hierarchymagic"
   ]
  },
  {
   "cell_type": "code",
   "execution_count": null,
   "metadata": {
    "collapsed": false
   },
   "outputs": [],
   "source": [
    "%dotstr -f svg nx.nx_agraph.to_agraph(undirected_graph).string()\n",
    "%dotstr -f svg nx.nx_agraph.to_agraph(directed_graph).string()"
   ]
  },
  {
   "cell_type": "markdown",
   "metadata": {},
   "source": [
    "But, of course, the reason we use NetworkX is to find things out about graphs. Let's try it out, with an arbitrary graph."
   ]
  },
  {
   "cell_type": "code",
   "execution_count": null,
   "metadata": {
    "collapsed": false
   },
   "outputs": [],
   "source": [
    "# This gives us an undirected graph with 30 nodes, and each node has a 5% chance \n",
    "# of being connected to each other node.\n",
    "random_graph = nx.erdos_renyi_graph(30, 0.05)  \n",
    "\n",
    "# Now we can look at it.\n",
    "%dotstr -f svg nx.nx_agraph.to_agraph(random_graph).string()"
   ]
  },
  {
   "cell_type": "markdown",
   "metadata": {
    "collapsed": true
   },
   "source": [
    "The graph generated will have some nodes that are connected together and some that aren't connected to anything. **Your graph will look different from mine!** NetworkX allows us to find these groups."
   ]
  },
  {
   "cell_type": "code",
   "execution_count": null,
   "metadata": {
    "collapsed": false
   },
   "outputs": [],
   "source": [
    "for subgraph in nx.connected_components(random_graph):\n",
    "    print(subgraph)"
   ]
  },
  {
   "cell_type": "markdown",
   "metadata": {},
   "source": [
    "We can also find out which node has the most connections. The number of edges in and out of a node is called its **degree**. NetworkX will give us a dictionary that gives every node and its degree, like this:"
   ]
  },
  {
   "cell_type": "code",
   "execution_count": null,
   "metadata": {
    "collapsed": false
   },
   "outputs": [],
   "source": [
    "nx.degree(random_graph)"
   ]
  },
  {
   "cell_type": "markdown",
   "metadata": {},
   "source": [
    "...and then we can sort these pairs to find the node that has the highest degree."
   ]
  },
  {
   "cell_type": "code",
   "execution_count": null,
   "metadata": {
    "collapsed": false
   },
   "outputs": [],
   "source": [
    "from operator import itemgetter\n",
    "\n",
    "degrees = nx.degree(random_graph)\n",
    "sorted(degrees.items(), key=itemgetter(1), reverse=True)[0]"
   ]
  },
  {
   "cell_type": "markdown",
   "metadata": {},
   "source": [
    "You can also find the shortest path between two nodes:"
   ]
  },
  {
   "cell_type": "code",
   "execution_count": null,
   "metadata": {
    "collapsed": false
   },
   "outputs": [],
   "source": [
    "nx.shortest_path(random_graph, 2, 15)"
   ]
  },
  {
   "cell_type": "markdown",
   "metadata": {},
   "source": [
    "...but be careful! If you don't know whether there actually is a path between the nodes, you might get an error."
   ]
  },
  {
   "cell_type": "code",
   "execution_count": null,
   "metadata": {
    "collapsed": false
   },
   "outputs": [],
   "source": [
    "nx.shortest_path(random_graph, 1, 17)"
   ]
  },
  {
   "cell_type": "markdown",
   "metadata": {},
   "source": [
    "So it is usually a good idea to check that you actually got a path. Here is a function that you can write, that looks for the NetworkXNoPath error and handles it if necessary, by printing out a message."
   ]
  },
  {
   "cell_type": "code",
   "execution_count": null,
   "metadata": {
    "collapsed": false
   },
   "outputs": [],
   "source": [
    "def find_the_way(graph, here, there):\n",
    "    try:\n",
    "        print(\"The route you want is \", nx.shortest_path(graph, here, there))\n",
    "    except nx.NetworkXNoPath:\n",
    "        print(\"You can't get there from here.\")\n",
    "        \n",
    "find_the_way(random_graph, 10, 9)"
   ]
  },
  {
   "cell_type": "markdown",
   "metadata": {},
   "source": [
    "As it happens, there is another way to do this - NetworkX also has a method called `has_path`. It works like this."
   ]
  },
  {
   "cell_type": "code",
   "execution_count": null,
   "metadata": {
    "collapsed": false
   },
   "outputs": [],
   "source": [
    "def find_the_way(graph, here, there):\n",
    "    if nx.has_path(graph, here, there):\n",
    "        print(\"The route you want is \", nx.shortest_path(graph, here, there))\n",
    "    else:\n",
    "        print(\"You can't get there from here.\")\n",
    "        \n",
    "find_the_way(random_graph, 1, 9)"
   ]
  },
  {
   "cell_type": "markdown",
   "metadata": {},
   "source": [
    "These things change a little bit if you use a directed graph - in the first place, you have to distinguish between \"in-degree\" (the number of edges pointing *to* a node) vs. \"out-degree\" (the number of edgs pointing *from* a node.) Think of the difference between someone who follows a lot of people on Twitter vs. someone who has a lot of followers.\n",
    "\n",
    "We can make a directed graph in the same way we made an undirected one, with an extra parameter to say that it should be directed."
   ]
  },
  {
   "cell_type": "code",
   "execution_count": null,
   "metadata": {
    "collapsed": false
   },
   "outputs": [],
   "source": [
    "random_directed_graph = nx.erdos_renyi_graph(20, 0.08, directed=True)\n",
    "%dotstr -f svg nx.nx_agraph.to_agraph(random_directed_graph).string()"
   ]
  },
  {
   "cell_type": "code",
   "execution_count": null,
   "metadata": {
    "collapsed": false
   },
   "outputs": [],
   "source": [
    "find_the_way(random_directed_graph, 0, 1)\n",
    "find_the_way(random_directed_graph, 1, 0)"
   ]
  },
  {
   "cell_type": "markdown",
   "metadata": {},
   "source": [
    "What are some situations where you might want to use an undirected graph? How about a directed graph?\n",
    "\n",
    "Social networks and their analysis\n",
    "-----\n",
    "\n",
    "For the rest of this exercise we will use some real-life data, taken from the [Prosopography of the Byzantine World](http://db.pbw.kcl.ac.uk/jsp/index.jsp). I have extracted from that database the information on how people were related to each other, counting only sets with at least five people related to each other (that is, subgraphs with a minimum node size of five). The information is in the CSV file called `byzkinship.csv`. So we need to parse it into a graph."
   ]
  },
  {
   "cell_type": "code",
   "execution_count": null,
   "metadata": {
    "collapsed": false
   },
   "outputs": [],
   "source": [
    "import csv\n",
    "\n",
    "kinship = nx.DiGraph()\n",
    "with open('../lessondata/byzkinship.csv', newline='') as kinfile:\n",
    "    kinreader = csv.DictReader(kinfile)\n",
    "    for row in kinreader:\n",
    "        kinship.add_edge(row['Person'], row['Relative'], kinship=row['Relationship'])\n",
    "        \n",
    "len(kinship.nodes())"
   ]
  },
  {
   "cell_type": "markdown",
   "metadata": {},
   "source": [
    "So let's find the subgraphs!"
   ]
  },
  {
   "cell_type": "code",
   "execution_count": null,
   "metadata": {
    "collapsed": false
   },
   "outputs": [],
   "source": [
    "for subgraph in nx.connected_components(kinship):\n",
    "    print(len(subgraph))"
   ]
  },
  {
   "cell_type": "markdown",
   "metadata": {},
   "source": [
    "Oh dear, we have a problem: we can only find subgraphs in NetworkX with undirected graphs. This does make sense - if you can't get from node 1 to node 2, even when you can get from node 2 to node 1, can you really say they are connected? It's something that you can argue about. We can get around this though, if we do want to ignore the direction of the edges, by telling NetworkX to treat our graph temporarily as an undirected one."
   ]
  },
  {
   "cell_type": "code",
   "execution_count": null,
   "metadata": {
    "collapsed": false
   },
   "outputs": [],
   "source": [
    "for subgraph in nx.connected_components(kinship.to_undirected()):\n",
    "    print(len(subgraph))"
   ]
  },
  {
   "cell_type": "markdown",
   "metadata": {},
   "source": [
    "We can make a visualization of this graph. HOWEVER, if we use Graphviz the graph will be unthinkably huge, so we probably don't want to do that. Instead we can use the matplotlib library, which is included with Anaconda and which networkx also supports. The graph will be too dense to be deeply meaningful, but you will be able to see its shape."
   ]
  },
  {
   "cell_type": "code",
   "execution_count": null,
   "metadata": {
    "collapsed": false
   },
   "outputs": [],
   "source": [
    "import matplotlib.pyplot as plt\n",
    "\n",
    "nx.draw(kinship, node_size=2)\n",
    "plt.show()"
   ]
  },
  {
   "cell_type": "markdown",
   "metadata": {},
   "source": [
    "There are a few measures of relevance in social network analysis. One of them is node degree - that is, who has the highest number of connections? Who, in this graph, is related to the most other people? Let's find out."
   ]
  },
  {
   "cell_type": "code",
   "execution_count": null,
   "metadata": {
    "collapsed": false
   },
   "outputs": [],
   "source": [
    "degrees = nx.degree(kinship)\n",
    "sorted(degrees.items(), key=itemgetter(1), reverse=True)[0:10]"
   ]
  },
  {
   "cell_type": "markdown",
   "metadata": {},
   "source": [
    "This can also be expressed as \"degree centrality\" - quite simply, the degree divided by the number of nodes in the graph. This provides an easy way to compare the centrality of nodes from two different graphs even if they are not the same size."
   ]
  },
  {
   "cell_type": "code",
   "execution_count": null,
   "metadata": {
    "collapsed": false
   },
   "outputs": [],
   "source": [
    "degree_centrality = nx.degree_centrality(kinship)\n",
    "sorted(degree_centrality.items(), key=itemgetter(1), reverse=True)[0:10]"
   ]
  },
  {
   "cell_type": "markdown",
   "metadata": {},
   "source": [
    "You see that it is the same list, just with different numbers.\n",
    "\n",
    "It also tends to happen in social networks that, even when all the nodes are connected to each other, you can tell that there are subgroups. Think of your friends from school vs. your friends from your department - each subset knows most of the others in that subset, but you may be one of the very few who belongs to both sets. That puts you *between* the groups, and *central* to connecting them. In social networking terms this is *betweenness centrality* - which people tend to sit between distinct clusters of people and so connect them?"
   ]
  },
  {
   "cell_type": "code",
   "execution_count": null,
   "metadata": {
    "collapsed": false
   },
   "outputs": [],
   "source": [
    "central = nx.betweenness_centrality(kinship)\n",
    "sorted(central.items(), key=itemgetter(1), reverse=True)[0:10]"
   ]
  },
  {
   "cell_type": "markdown",
   "metadata": {},
   "source": [
    "Finally, we can look for these distinct clusters within a graph. To do this, let's find the one big part of the graph we saw before, with 698 connected people."
   ]
  },
  {
   "cell_type": "code",
   "execution_count": null,
   "metadata": {
    "collapsed": false
   },
   "outputs": [],
   "source": [
    "extended_family = None\n",
    "for subgraph in nx.connected_component_subgraphs(kinship.to_undirected()):\n",
    "    if len(subgraph) > 600:\n",
    "        extended_family = subgraph\n",
    "\n",
    "nx.draw(extended_family, node_size=2)\n",
    "plt.show()"
   ]
  },
  {
   "cell_type": "markdown",
   "metadata": {},
   "source": [
    "We can see some distinct clusters in there; can NetworkX find them? This is a feature known as 'community detection', and in order to use it you need to install an extra module:\n",
    "\n",
    "    $ pip install python-louvain\n",
    "    \n",
    "Once you've done that, you will import the module under the name `community`. Confusing, I know."
   ]
  },
  {
   "cell_type": "code",
   "execution_count": null,
   "metadata": {
    "collapsed": false
   },
   "outputs": [],
   "source": [
    "import community\n",
    "\n",
    "partition = community.best_partition(extended_family)\n",
    "partition"
   ]
  },
  {
   "cell_type": "markdown",
   "metadata": {},
   "source": [
    "So let's visualize that. We will need to draw each group of nodes separately, with a different color for each group number."
   ]
  },
  {
   "cell_type": "code",
   "execution_count": null,
   "metadata": {
    "collapsed": false
   },
   "outputs": [],
   "source": [
    "subgroups = {}\n",
    "for person, gnum in partition.items():\n",
    "    if gnum in subgroups:\n",
    "        subgroups[gnum].append(person)\n",
    "    else:\n",
    "        subgroups[gnum] = [person]\n",
    "subgroups"
   ]
  },
  {
   "cell_type": "code",
   "execution_count": null,
   "metadata": {
    "collapsed": false
   },
   "outputs": [],
   "source": [
    "pos = nx.spring_layout(extended_family)\n",
    "colors = ['#767e1c', '#5ff17b', '#a67e3a', '#0a8c2a', '#a5a319', '#13b7e1', '#7431ae', \n",
    "          '#575b98', '#388834', '#912686', '#1eaa4c', '#6bae56', '#6d0647', '#e71cbd', '#000000', \n",
    "          '#7d649a', '#cad51f', '#2acc22', '#912f54', '#8b346d', '#faf73c', '#713206', '#ffffff']\n",
    "for gnum in subgroups.keys():\n",
    "    color = \"C%d\" % gnum\n",
    "    nx.draw_networkx_nodes(extended_family, pos, nodelist=subgroups[gnum], node_color=colors[gnum], node_size=30)\n",
    "nx.draw_networkx_edges(extended_family, pos)\n",
    "plt.show()"
   ]
  },
  {
   "cell_type": "markdown",
   "metadata": {
    "collapsed": true
   },
   "source": [
    "And so we're done! And as this is digital humanities you may now ask yourself: what exactly does it imply, to have distinct clusters within a group of kin...? What do you suppose we have actually found, if anything?"
   ]
  }
 ],
 "metadata": {
  "anaconda-cloud": {},
  "kernelspec": {
   "display_name": "Python 3",
   "language": "python",
   "name": "python3"
  },
  "language_info": {
   "codemirror_mode": {
    "name": "ipython",
    "version": 3
   },
   "file_extension": ".py",
   "mimetype": "text/x-python",
   "name": "python",
   "nbconvert_exporter": "python",
   "pygments_lexer": "ipython3",
   "version": "3.6.0"
  }
 },
 "nbformat": 4,
 "nbformat_minor": 2
}
