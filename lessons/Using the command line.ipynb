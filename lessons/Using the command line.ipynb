{
 "cells": [
  {
   "cell_type": "markdown",
   "metadata": {},
   "source": [
    "Files, programs, and the command line\n",
    "==============\n",
    "\n",
    "This is a primer to get you started on a few concepts:\n",
    "\n",
    "- What a *filesystem* is\n",
    "- How to run a program from the command line\n",
    "- What it means to run a program\n",
    "- How the computer knows what program to run\n",
    "- How to refer to a file from the command line\n",
    "\n",
    "The filesystem\n",
    "------------\n",
    "\n",
    "All the files and programs on your computer are organized into folders; all these folders are in some other folders all the way down to your hard drive, which we call the **root** of your filesystem. Every hard drive, USB drive, DVD, and CD-ROM has its own filesystem.\n",
    "\n",
    "You normally look at the contents of your filesystem via the Finder (on Mac) or the Explorer (on Windows). Open a window there now."
   ]
  },
  {
   "cell_type": "code",
   "execution_count": null,
   "metadata": {
    "collapsed": false
   },
   "outputs": [],
   "source": [
    "display < img/mac_finder.png"
   ]
  },
  {
   "cell_type": "code",
   "execution_count": null,
   "metadata": {
    "collapsed": false
   },
   "outputs": [],
   "source": [
    "display < img/windows_explorer.png"
   ]
  },
  {
   "cell_type": "markdown",
   "metadata": {},
   "source": [
    "The Finder / Explorer window opens in some folder, which might be different depending on what computer operating system you're using. But you'll usually have a navigation bar to the left, that will let you go to different places. You see folders, also known as *directories*, and you might see files too.\n",
    "\n",
    "One thing that computer OSes like to hide from you is the fact that you have a *home directory*, where all your personal files and folders should live. This makes it easier for multiple users to use a single computer. You can find your home directory like this:\n",
    "\n",
    "- On Mac, select Go -> Home in the menu.\n",
    "- On Windows, click on 'Local Drive (C:)', then click on 'Users', then click on your login name.\n",
    "\n",
    "You'll see that your home directory has several folders in it already, that were created automatically for you when you first made a user account.\n",
    "\n",
    "Now how can you tell where you are, with respect to the root of your drive?\n",
    "\n",
    "- On Mac, select View -> Show Path Bar in the menu.\n",
    "- On Windows, look \n",
    "\n",
    "The Finder / Explorer will also show you where in your computer's filesystem you are. This is called the **path** - it shows you the path you have to take from the root of your filesystem to the folder you are in."
   ]
  },
  {
   "cell_type": "code",
   "execution_count": null,
   "metadata": {
    "collapsed": false
   },
   "outputs": [],
   "source": [
    "display < img/mac_path.png"
   ]
  },
  {
   "cell_type": "code",
   "execution_count": null,
   "metadata": {
    "collapsed": false
   },
   "outputs": [],
   "source": [
    "display < img/windows_path.png"
   ]
  },
  {
   "cell_type": "markdown",
   "metadata": {},
   "source": [
    "Now if you are on Windows, click on that bar and you'll see something surprising."
   ]
  },
  {
   "cell_type": "code",
   "execution_count": null,
   "metadata": {
    "collapsed": false
   },
   "outputs": [],
   "source": [
    "display < img/windows_realpath.png"
   ]
  },
  {
   "cell_type": "markdown",
   "metadata": {},
   "source": [
    "This is your real path. The `C:\\\\` is how Windows refers to the root of your filesystem. Also note that, even if your OS is not in English, the path may very well be!\n",
    "\n",
    "Getting started with the command line\n",
    "-----------------\n",
    "\n",
    "Now that you have a hint of what is going on behind the scenes on your computer, let's dive into the command line. Here is how you get there:\n",
    "\n",
    "- On Mac, look for a program called Terminal.app\n",
    "- On Windows, look for a program called Powershell"
   ]
  },
  {
   "cell_type": "code",
   "execution_count": null,
   "metadata": {
    "collapsed": false
   },
   "outputs": [],
   "source": [
    "display < img/mac_terminal.png"
   ]
  },
  {
   "cell_type": "code",
   "execution_count": null,
   "metadata": {
    "collapsed": false
   },
   "outputs": [],
   "source": [
    "display < img/windows_powershell.png"
   ]
  },
  {
   "cell_type": "markdown",
   "metadata": {},
   "source": [
    "By default, these shells open in your home directory. On Windows this is easy to see, but on Mac it is less clear—that is, until you know that this `~` thing is an alias for your home directory.\n",
    "\n",
    "Components of the command line\n",
    "-------------------------\n",
    "\n",
    "The command line consists of a *prompt* where you type your commands, the *commands* and *arguments* that you type, and the *output* that results from those commands. \n",
    "\n",
    "The *prompt* is the thing that looks like\n",
    "\n",
    "    MacBook-Pro:~ tla$\n",
    "    \n",
    "or\n",
    "\n",
    "    PS C:\\Users\\Tara L Andrews>\n",
    "\n",
    "You will never need to type the prompt. That means that, if you are noting down what we do in class for future reference, you should not copy this part!\n",
    "\n",
    "The prompt actually gives you a little bit of information. \n",
    "\n",
    "- On Mac, it has the name of the computer, followed by a :, followed by the directory where you are, followed by your username, with $ at the end. \n",
    "- On Windows, it has PS for 'PowerShell', followed by the name of the drive (C for most of you), followed by a :, followed by the full path to where you are, with > at the end.\n",
    "\n",
    "When you type a command, nothing happens until you press the Return key. Some commands have output (more text that appears after you press Return) and others don't. You cannot run another command until the prompt is given again.\n",
    "\n",
    "**NOTE**: From this point on in this notebook, you will be running the commands that are run here!\n",
    "\n",
    "Let's first make sure we are in our home directory by typing `cd ~`. For most of you this should change nothing, but now you know your first shell command. The 'cd' stands for 'change directory', and what follows is the directory you want to go to. "
   ]
  },
  {
   "cell_type": "code",
   "execution_count": null,
   "metadata": {
    "collapsed": false
   },
   "outputs": [],
   "source": [
    "cd ~"
   ]
  },
  {
   "cell_type": "markdown",
   "metadata": {},
   "source": [
    "Now let's have a look around. The command to show what is in any particular directory is called `ls`, which stands for *list*. Try running it."
   ]
  },
  {
   "cell_type": "code",
   "execution_count": null,
   "metadata": {
    "collapsed": false
   },
   "outputs": [],
   "source": [
    "ls"
   ]
  },
  {
   "cell_type": "markdown",
   "metadata": {},
   "source": [
    "If you are on Windows, what you get will look more like this:\n",
    "\n",
    "```\n",
    "PS C:\\Users\\Tara L Andrews> ls\n",
    "\n",
    "\n",
    "    Verzeichnis: C:\\Users\\Tara L Andrews\n",
    "\n",
    "\n",
    "Mode                LastWriteTime     Length Name\n",
    "----                -------------     ------ ----\n",
    "d----        23.02.2016     21:18            .oracle_jre_usage\n",
    "d-r--        23.02.2016     20:40            Contacts\n",
    "d-r--        23.02.2016     20:40            Desktop\n",
    "d-r--        23.02.2016     21:11            Documents\n",
    "d-r--        23.02.2016     21:16            Downloads\n",
    "d----        23.02.2016     21:24            exist\n",
    "d-r--        23.02.2016     20:40            Favorites\n",
    "d-r--        23.02.2016     20:40            Links\n",
    "d-r--        23.02.2016     20:40            Music\n",
    "d-r--        23.02.2016     20:40            Pictures\n",
    "d-r--        23.02.2016     20:40            Saved Games\n",
    "d-r--        23.02.2016     20:40            Searches\n",
    "d-r--        23.02.2016     20:40            Videos\n",
    "\n",
    "\n",
    "PS C:\\Users\\Tara L Andrews>\n",
    "```\n",
    "\n",
    "Now go into your documents folder and look around."
   ]
  },
  {
   "cell_type": "code",
   "execution_count": null,
   "metadata": {
    "collapsed": false
   },
   "outputs": [],
   "source": [
    "cd Documents\n",
    "ls"
   ]
  },
  {
   "cell_type": "markdown",
   "metadata": {},
   "source": [
    "How does this compare to what you see in the Finder / Explorer window, if you click on the Documents folder?\n",
    "\n",
    "Another important command, which tells you where you are at any given time, is `pwd`. This means *print working directory*. Try it now and see what you get."
   ]
  },
  {
   "cell_type": "code",
   "execution_count": null,
   "metadata": {
    "collapsed": false
   },
   "outputs": [],
   "source": [
    "pwd"
   ]
  },
  {
   "cell_type": "markdown",
   "metadata": {},
   "source": [
    "If ever you get lost on the command line, `pwd` will always help you find your way.\n",
    "\n",
    "File paths and path notations\n",
    "-------------------\n",
    "\n",
    "By now you will have noticed that I've mentioned the **path** a few times, and that it seems to have something to do with this thing that `pwd` prints out. (And, most annoyingly, that it looks different on Mac and Windows.) The bit of text that you get from `pwd` is what is called **path notation**, and it is very important that you learn it if you want to do anything with your own digital data. Here are some rules:\n",
    "\n",
    "- The `/` (or `\\\\` on Windows) separates folder names. So `Desktop/Video` means \"the thing called Video inside the Desktop folder\".\n",
    "- The `/` all by itself refers to the base of your hard drive (usually \"Macintosh HD\" or \"C:\\\".)\n",
    "- The `~` refers to your home folder.\n",
    "- These things can be combined; `~/Documents` means \"the Documents folder in my home folder.\"\n",
    "- The `.` means \"the current working directory\", i.e. what you would get if you ran the command `pwd`.\n",
    "- The `..` means \"one directory back\" - if `pwd` gives you `/Users/tla`, then `..` means `/Users`.\n",
    "- If the path does not start with a `.` or a `/` or a `~`, then it will be assumed to start with a `./`, that is, \"start from the current working directory.\"\n",
    "\n",
    "Let's wander around a bit."
   ]
  },
  {
   "cell_type": "code",
   "execution_count": null,
   "metadata": {
    "collapsed": false
   },
   "outputs": [],
   "source": [
    "cd ~\n",
    "pwd"
   ]
  },
  {
   "cell_type": "code",
   "execution_count": null,
   "metadata": {
    "collapsed": false
   },
   "outputs": [],
   "source": [
    "cd ..\n",
    "pwd"
   ]
  },
  {
   "cell_type": "code",
   "execution_count": null,
   "metadata": {
    "collapsed": false
   },
   "outputs": [],
   "source": [
    "ls"
   ]
  },
  {
   "cell_type": "code",
   "execution_count": null,
   "metadata": {
    "collapsed": false
   },
   "outputs": [],
   "source": [
    "cd Desktop\n",
    "pwd"
   ]
  },
  {
   "cell_type": "code",
   "execution_count": null,
   "metadata": {
    "collapsed": false
   },
   "outputs": [],
   "source": [
    "cd tla/Desktop"
   ]
  },
  {
   "cell_type": "code",
   "execution_count": null,
   "metadata": {
    "collapsed": false
   },
   "outputs": [],
   "source": [
    "pwd"
   ]
  },
  {
   "cell_type": "code",
   "execution_count": null,
   "metadata": {
    "collapsed": false
   },
   "outputs": [],
   "source": [
    "cd Documents"
   ]
  },
  {
   "cell_type": "code",
   "execution_count": null,
   "metadata": {
    "collapsed": false
   },
   "outputs": [],
   "source": [
    "pwd"
   ]
  },
  {
   "cell_type": "code",
   "execution_count": null,
   "metadata": {
    "collapsed": false
   },
   "outputs": [],
   "source": [
    "cd ../Documents\n",
    "pwd"
   ]
  },
  {
   "cell_type": "code",
   "execution_count": null,
   "metadata": {
    "collapsed": false
   },
   "outputs": [],
   "source": [
    "cd DH2015\n",
    "pwd"
   ]
  },
  {
   "cell_type": "code",
   "execution_count": null,
   "metadata": {
    "collapsed": false
   },
   "outputs": [],
   "source": [
    "cd ../../Desktop\n",
    "pwd"
   ]
  },
  {
   "cell_type": "code",
   "execution_count": null,
   "metadata": {
    "collapsed": false
   },
   "outputs": [],
   "source": [
    "ls testpage.pdf"
   ]
  },
  {
   "cell_type": "code",
   "execution_count": null,
   "metadata": {
    "collapsed": false
   },
   "outputs": [],
   "source": [
    "ls ESTS"
   ]
  },
  {
   "cell_type": "code",
   "execution_count": null,
   "metadata": {
    "collapsed": false
   },
   "outputs": [],
   "source": [
    "cd /Users\n",
    "pwd"
   ]
  },
  {
   "cell_type": "code",
   "execution_count": null,
   "metadata": {
    "collapsed": false
   },
   "outputs": [],
   "source": [
    "cd /Users/tla\n",
    "pwd"
   ]
  },
  {
   "cell_type": "markdown",
   "metadata": {},
   "source": [
    "Command line arguments\n",
    "--------------\n",
    "\n",
    "So far we have learned three commands: `cd`, `ls`, and `pwd`. These are useful for navigation, but we can run a lot more commands once we learn them, and have a need for them!\n",
    "\n",
    "What are we doing, exactly?\n",
    "\n",
    "- First word is the command\n",
    "- All other words are the **arguments**\n",
    "- Words are separated by spaces\n",
    "\n",
    "`cd` is a command that expects an argument: the name of the directory you want to go to. But what if the name has a space in it?"
   ]
  },
  {
   "cell_type": "code",
   "execution_count": null,
   "metadata": {
    "collapsed": false
   },
   "outputs": [],
   "source": [
    "cd ~/Documents/2017 SS"
   ]
  },
  {
   "cell_type": "markdown",
   "metadata": {},
   "source": [
    "What happened there??\n",
    "\n",
    "Well, I have a folder called **2015 HS** in my Documents folder, and I tried to go there. But since the command line works with arguments, and since arguments are separated by space, it thought I was saying \"Change to the Documents/2015 folder, and then HS, whatever that means.\" And it gave me an error, because I don't have a folder called 2015 in my Documents folder.\n",
    "\n",
    "You can get around this. How you get around it depends on whether you're on Windows or not. One way to get around it that should work both places is like this:"
   ]
  },
  {
   "cell_type": "code",
   "execution_count": null,
   "metadata": {
    "collapsed": false
   },
   "outputs": [],
   "source": [
    "cd ~/Documents/\"2017 SS\"\n",
    "ls"
   ]
  },
  {
   "cell_type": "code",
   "execution_count": null,
   "metadata": {
    "collapsed": false
   },
   "outputs": [],
   "source": [
    "ls Andrews1.pdf mainz ests_2017.docx thisdoesnotexist"
   ]
  },
  {
   "cell_type": "markdown",
   "metadata": {},
   "source": [
    "Paths and program execution\n",
    "---------------\n",
    "\n",
    "As well as a shell command like what we have been using, you can also give the name of a program as the first word on a command line. Now that you have Python installed we can try that."
   ]
  },
  {
   "cell_type": "code",
   "execution_count": null,
   "metadata": {
    "collapsed": false
   },
   "outputs": [],
   "source": [
    "python -V"
   ]
  },
  {
   "cell_type": "markdown",
   "metadata": {},
   "source": [
    "Here we commanded the program `python` to run, and gave it a single argument, which happens to mean \"Print out your version number and then quit\". Which is exactly what happened.\n",
    "\n",
    "So can you run any program, just like that? Not quite. Let's try to run one of our files."
   ]
  },
  {
   "cell_type": "code",
   "execution_count": null,
   "metadata": {
    "collapsed": false
   },
   "outputs": [],
   "source": [
    "ests_2017.docx"
   ]
  },
  {
   "cell_type": "markdown",
   "metadata": {},
   "source": [
    "If you're on Windows, the error will look something like this:\n",
    "\n",
    "```\n",
    "exist : Die Benennung \"exist\" wurde nicht als Name eines Cmdlet, einer Funktion,\n",
    "ausführbaren Programms erkannt. Überprüfen Sie die Schreibweise des Namens, oder\n",
    "enthalten), und wiederholen Sie den Vorgang.\n",
    "In Zeile:1 Zeichen:1\n",
    "+ exist\n",
    "+ ~~~~~\n",
    "    + CategoryInfo          : ObjectNotFound: (exist:String) [], CommandNotFound\n",
    "    + FullyQualifiedErrorId : CommandNotFoundException\n",
    "```\n",
    "\n",
    "In both cases, the key here is where it says the file was *not found*. So how does the computer know where to look? The answer lies in something, confusingly enough, also called the **PATH**.\n",
    "\n",
    "You can see your PATH as follows:\n",
    "\n",
    "- On Mac, type `echo $PATH`\n",
    "- On Windows, type `echo $Env:Path`\n"
   ]
  },
  {
   "cell_type": "code",
   "execution_count": null,
   "metadata": {
    "collapsed": false
   },
   "outputs": [],
   "source": [
    "echo $PATH"
   ]
  },
  {
   "cell_type": "markdown",
   "metadata": {},
   "source": [
    "What you see is a list of directory paths. When you type a command, the computer looks in each of these directories to see if it can find a program with the name you have given as the first word of that command. This means that sometimes, when you install software, you have to change the PATH. We'll talk about how to do that, when necessary, as term goes on."
   ]
  }
 ],
 "metadata": {
  "kernelspec": {
   "display_name": "Bash",
   "language": "bash",
   "name": "bash"
  },
  "language_info": {
   "codemirror_mode": "shell",
   "file_extension": ".sh",
   "mimetype": "text/x-sh",
   "name": "bash"
  }
 },
 "nbformat": 4,
 "nbformat_minor": 0
}
